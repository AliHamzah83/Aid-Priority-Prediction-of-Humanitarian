{
 "cells": [
  {
   "cell_type": "code",
   "execution_count": 2,
   "metadata": {
    "id": "h4PyzAeaYotL"
   },
   "outputs": [],
   "source": [
    "DATA_PATH = '../data/raw/Needs.xlsx'"
   ]
  },
  {
   "cell_type": "code",
   "execution_count": 3,
   "metadata": {
    "id": "AUo76PzRZpnq"
   },
   "outputs": [],
   "source": [
    "import pandas as pd \n",
    "import numpy as np\n",
    "import seaborn as sns\n",
    "pd.options.display.max_rows = 10000"
   ]
  },
  {
   "cell_type": "code",
   "execution_count": 4,
   "metadata": {
    "id": "5xLaFhMjZu_R"
   },
   "outputs": [
    {
     "data": {
      "text/html": [
       "<div>\n",
       "<style scoped>\n",
       "    .dataframe tbody tr th:only-of-type {\n",
       "        vertical-align: middle;\n",
       "    }\n",
       "\n",
       "    .dataframe tbody tr th {\n",
       "        vertical-align: top;\n",
       "    }\n",
       "\n",
       "    .dataframe thead th {\n",
       "        text-align: right;\n",
       "    }\n",
       "</style>\n",
       "<table border=\"1\" class=\"dataframe\">\n",
       "  <thead>\n",
       "    <tr style=\"text-align: right;\">\n",
       "      <th></th>\n",
       "      <th>Index</th>\n",
       "      <th>Country</th>\n",
       "      <th>City</th>\n",
       "      <th>Latitude</th>\n",
       "      <th>Longitude</th>\n",
       "      <th>Name</th>\n",
       "      <th>Breadwinner</th>\n",
       "      <th>Breadwinner Work</th>\n",
       "      <th>Male</th>\n",
       "      <th>Female</th>\n",
       "      <th>...</th>\n",
       "      <th>Over 18</th>\n",
       "      <th>House</th>\n",
       "      <th>Type of residence</th>\n",
       "      <th>Electricity</th>\n",
       "      <th>Water</th>\n",
       "      <th>Income</th>\n",
       "      <th>Need/food</th>\n",
       "      <th>Need/Clothes</th>\n",
       "      <th>Need/Education</th>\n",
       "      <th>Need/Money</th>\n",
       "    </tr>\n",
       "  </thead>\n",
       "  <tbody>\n",
       "    <tr>\n",
       "      <th>0</th>\n",
       "      <td>5001</td>\n",
       "      <td>Iraq</td>\n",
       "      <td>Tall Afar</td>\n",
       "      <td>36.3760</td>\n",
       "      <td>42.4497</td>\n",
       "      <td>حسين قاسم</td>\n",
       "      <td>Father</td>\n",
       "      <td>Doesn't work</td>\n",
       "      <td>6</td>\n",
       "      <td>2</td>\n",
       "      <td>...</td>\n",
       "      <td>5</td>\n",
       "      <td>Flat</td>\n",
       "      <td>Own</td>\n",
       "      <td>Ambers</td>\n",
       "      <td>Public Network</td>\n",
       "      <td>146.0</td>\n",
       "      <td>1.0</td>\n",
       "      <td>NaN</td>\n",
       "      <td>NaN</td>\n",
       "      <td>NaN</td>\n",
       "    </tr>\n",
       "    <tr>\n",
       "      <th>1</th>\n",
       "      <td>4678</td>\n",
       "      <td>Iraq</td>\n",
       "      <td>Ar Rutbah</td>\n",
       "      <td>33.0385</td>\n",
       "      <td>40.2845</td>\n",
       "      <td>منير العليوي</td>\n",
       "      <td>Father</td>\n",
       "      <td>Doesn't work</td>\n",
       "      <td>3</td>\n",
       "      <td>1</td>\n",
       "      <td>...</td>\n",
       "      <td>2</td>\n",
       "      <td>Flat</td>\n",
       "      <td>Own</td>\n",
       "      <td>Solar Energy</td>\n",
       "      <td>Trucked water</td>\n",
       "      <td>NaN</td>\n",
       "      <td>1.0</td>\n",
       "      <td>1.0</td>\n",
       "      <td>NaN</td>\n",
       "      <td>1.0</td>\n",
       "    </tr>\n",
       "    <tr>\n",
       "      <th>2</th>\n",
       "      <td>5519</td>\n",
       "      <td>Syria</td>\n",
       "      <td>Idlib</td>\n",
       "      <td>35.9297</td>\n",
       "      <td>36.6317</td>\n",
       "      <td>بكري مصطفى</td>\n",
       "      <td>Father</td>\n",
       "      <td>Employed</td>\n",
       "      <td>6</td>\n",
       "      <td>3</td>\n",
       "      <td>...</td>\n",
       "      <td>5</td>\n",
       "      <td>Room</td>\n",
       "      <td>Guest</td>\n",
       "      <td>Public Network</td>\n",
       "      <td>Well</td>\n",
       "      <td>NaN</td>\n",
       "      <td>1.0</td>\n",
       "      <td>1.0</td>\n",
       "      <td>NaN</td>\n",
       "      <td>1.0</td>\n",
       "    </tr>\n",
       "    <tr>\n",
       "      <th>3</th>\n",
       "      <td>6001</td>\n",
       "      <td>Yemen</td>\n",
       "      <td>Al Ghaydah</td>\n",
       "      <td>16.2394</td>\n",
       "      <td>52.1638</td>\n",
       "      <td>عبدالجليل ابراهيم</td>\n",
       "      <td>Mother</td>\n",
       "      <td>House wife</td>\n",
       "      <td>2</td>\n",
       "      <td>8</td>\n",
       "      <td>...</td>\n",
       "      <td>6</td>\n",
       "      <td>Room</td>\n",
       "      <td>Rental</td>\n",
       "      <td>Private_generator</td>\n",
       "      <td>Trucked water</td>\n",
       "      <td>NaN</td>\n",
       "      <td>1.0</td>\n",
       "      <td>1.0</td>\n",
       "      <td>NaN</td>\n",
       "      <td>1.0</td>\n",
       "    </tr>\n",
       "    <tr>\n",
       "      <th>4</th>\n",
       "      <td>5335</td>\n",
       "      <td>Yemen</td>\n",
       "      <td>Al Ghaydah</td>\n",
       "      <td>16.2394</td>\n",
       "      <td>52.1638</td>\n",
       "      <td>محمدعمر  ابوصالح</td>\n",
       "      <td>Father</td>\n",
       "      <td>Employed</td>\n",
       "      <td>2</td>\n",
       "      <td>3</td>\n",
       "      <td>...</td>\n",
       "      <td>2</td>\n",
       "      <td>Room</td>\n",
       "      <td>Guest</td>\n",
       "      <td>Public Network</td>\n",
       "      <td>River/Canal</td>\n",
       "      <td>94.0</td>\n",
       "      <td>1.0</td>\n",
       "      <td>1.0</td>\n",
       "      <td>NaN</td>\n",
       "      <td>1.0</td>\n",
       "    </tr>\n",
       "  </tbody>\n",
       "</table>\n",
       "<p>5 rows × 24 columns</p>\n",
       "</div>"
      ],
      "text/plain": [
       "   Index Country        City  Latitude  Longitude               Name  \\\n",
       "0   5001    Iraq   Tall Afar   36.3760    42.4497          حسين قاسم   \n",
       "1   4678    Iraq   Ar Rutbah   33.0385    40.2845       منير العليوي   \n",
       "2   5519   Syria       Idlib   35.9297    36.6317         بكري مصطفى   \n",
       "3   6001   Yemen  Al Ghaydah   16.2394    52.1638  عبدالجليل ابراهيم   \n",
       "4   5335   Yemen  Al Ghaydah   16.2394    52.1638   محمدعمر  ابوصالح   \n",
       "\n",
       "  Breadwinner Breadwinner Work  Male  Female  ...  Over 18  House  \\\n",
       "0      Father     Doesn't work     6       2  ...        5   Flat   \n",
       "1      Father     Doesn't work     3       1  ...        2   Flat   \n",
       "2      Father         Employed     6       3  ...        5   Room   \n",
       "3      Mother       House wife     2       8  ...        6   Room   \n",
       "4      Father         Employed     2       3  ...        2   Room   \n",
       "\n",
       "   Type of residence        Electricity           Water Income Need/food  \\\n",
       "0                Own             Ambers  Public Network  146.0       1.0   \n",
       "1                Own       Solar Energy   Trucked water    NaN       1.0   \n",
       "2              Guest     Public Network            Well    NaN       1.0   \n",
       "3             Rental  Private_generator   Trucked water    NaN       1.0   \n",
       "4              Guest     Public Network     River/Canal   94.0       1.0   \n",
       "\n",
       "  Need/Clothes Need/Education  Need/Money  \n",
       "0          NaN            NaN         NaN  \n",
       "1          1.0            NaN         1.0  \n",
       "2          1.0            NaN         1.0  \n",
       "3          1.0            NaN         1.0  \n",
       "4          1.0            NaN         1.0  \n",
       "\n",
       "[5 rows x 24 columns]"
      ]
     },
     "execution_count": 4,
     "metadata": {},
     "output_type": "execute_result"
    }
   ],
   "source": [
    "# Read data and print shape\n",
    "raw_df = pd.read_excel(DATA_PATH)\n",
    "raw_df.shape\n",
    "raw_df.head(5)"
   ]
  },
  {
   "cell_type": "code",
   "execution_count": 5,
   "metadata": {
    "id": "KYCJFT-BabcX"
   },
   "outputs": [
    {
     "data": {
      "text/plain": [
       "Index                          5922\n",
       "Country                        Iraq\n",
       "City                      Ar Rutbah\n",
       "Latitude                    33.0385\n",
       "Longitude                   40.2845\n",
       "Name                   حيدر المحمود\n",
       "Breadwinner                  Mother\n",
       "Breadwinner Work         House wife\n",
       "Male                              4\n",
       "Female                            6\n",
       "Under 5 Male                      1\n",
       "Under 5 Female                    1\n",
       "6-18 Male                         1\n",
       "6-18 Female                       2\n",
       "Over 18                           5\n",
       "House                         House\n",
       "Type of residence               Own\n",
       "Electricity          Public Network\n",
       "Water                   River/Canal\n",
       "Income                          NaN\n",
       "Need/food                       1.0\n",
       "Need/Clothes                    NaN\n",
       "Need/Education                  NaN\n",
       "Need/Money                      1.0\n",
       "Name: 1442, dtype: object"
      ]
     },
     "execution_count": 5,
     "metadata": {},
     "output_type": "execute_result"
    }
   ],
   "source": [
    "raw_df.sample(1).iloc[0]"
   ]
  },
  {
   "cell_type": "code",
   "execution_count": 6,
   "metadata": {
    "id": "kqVV1QH-apFI"
   },
   "outputs": [
    {
     "name": "stdout",
     "output_type": "stream",
     "text": [
      "<class 'pandas.core.frame.DataFrame'>\n",
      "RangeIndex: 1701 entries, 0 to 1700\n",
      "Data columns (total 24 columns):\n",
      " #   Column             Non-Null Count  Dtype  \n",
      "---  ------             --------------  -----  \n",
      " 0   Index              1701 non-null   int64  \n",
      " 1   Country            1701 non-null   object \n",
      " 2   City               1701 non-null   object \n",
      " 3   Latitude           1701 non-null   float64\n",
      " 4   Longitude          1701 non-null   float64\n",
      " 5   Name               1701 non-null   object \n",
      " 6   Breadwinner        1701 non-null   object \n",
      " 7   Breadwinner Work   1701 non-null   object \n",
      " 8   Male               1701 non-null   int64  \n",
      " 9   Female             1701 non-null   int64  \n",
      " 10  Under 5 Male       1701 non-null   int64  \n",
      " 11  Under 5 Female     1701 non-null   int64  \n",
      " 12  6-18 Male          1701 non-null   int64  \n",
      " 13  6-18 Female        1701 non-null   int64  \n",
      " 14  Over 18            1701 non-null   int64  \n",
      " 15  House              1701 non-null   object \n",
      " 16  Type of residence  1701 non-null   object \n",
      " 17  Electricity        1701 non-null   object \n",
      " 18  Water              1701 non-null   object \n",
      " 19  Income             1075 non-null   float64\n",
      " 20  Need/food          1191 non-null   float64\n",
      " 21  Need/Clothes       704 non-null    float64\n",
      " 22  Need/Education     517 non-null    float64\n",
      " 23  Need/Money         1320 non-null   float64\n",
      "dtypes: float64(7), int64(8), object(9)\n",
      "memory usage: 319.1+ KB\n"
     ]
    }
   ],
   "source": [
    "# Print the general information of the data frame \n",
    "raw_df.info()"
   ]
  },
  {
   "cell_type": "code",
   "execution_count": 7,
   "metadata": {
    "id": "CppVyMzYa2QR"
   },
   "outputs": [
    {
     "data": {
      "text/html": [
       "<div>\n",
       "<style scoped>\n",
       "    .dataframe tbody tr th:only-of-type {\n",
       "        vertical-align: middle;\n",
       "    }\n",
       "\n",
       "    .dataframe tbody tr th {\n",
       "        vertical-align: top;\n",
       "    }\n",
       "\n",
       "    .dataframe thead th {\n",
       "        text-align: right;\n",
       "    }\n",
       "</style>\n",
       "<table border=\"1\" class=\"dataframe\">\n",
       "  <thead>\n",
       "    <tr style=\"text-align: right;\">\n",
       "      <th></th>\n",
       "      <th>Index</th>\n",
       "      <th>Latitude</th>\n",
       "      <th>Longitude</th>\n",
       "      <th>Male</th>\n",
       "      <th>Female</th>\n",
       "      <th>Under 5 Male</th>\n",
       "      <th>Under 5 Female</th>\n",
       "      <th>6-18 Male</th>\n",
       "      <th>6-18 Female</th>\n",
       "      <th>Over 18</th>\n",
       "      <th>Income</th>\n",
       "      <th>Need/food</th>\n",
       "      <th>Need/Clothes</th>\n",
       "      <th>Need/Education</th>\n",
       "      <th>Need/Money</th>\n",
       "    </tr>\n",
       "  </thead>\n",
       "  <tbody>\n",
       "    <tr>\n",
       "      <th>count</th>\n",
       "      <td>1701.00000</td>\n",
       "      <td>1701.000000</td>\n",
       "      <td>1701.000000</td>\n",
       "      <td>1701.000000</td>\n",
       "      <td>1701.000000</td>\n",
       "      <td>1701.000000</td>\n",
       "      <td>1701.000000</td>\n",
       "      <td>1701.000000</td>\n",
       "      <td>1701.000000</td>\n",
       "      <td>1701.00000</td>\n",
       "      <td>1075.000000</td>\n",
       "      <td>1191.0</td>\n",
       "      <td>704.0</td>\n",
       "      <td>517.0</td>\n",
       "      <td>1320.0</td>\n",
       "    </tr>\n",
       "    <tr>\n",
       "      <th>mean</th>\n",
       "      <td>5512.00000</td>\n",
       "      <td>28.587914</td>\n",
       "      <td>33.307325</td>\n",
       "      <td>3.827160</td>\n",
       "      <td>3.171664</td>\n",
       "      <td>0.994709</td>\n",
       "      <td>0.834215</td>\n",
       "      <td>1.068783</td>\n",
       "      <td>0.750147</td>\n",
       "      <td>3.35097</td>\n",
       "      <td>133.338605</td>\n",
       "      <td>1.0</td>\n",
       "      <td>1.0</td>\n",
       "      <td>1.0</td>\n",
       "      <td>1.0</td>\n",
       "    </tr>\n",
       "    <tr>\n",
       "      <th>std</th>\n",
       "      <td>491.18072</td>\n",
       "      <td>7.969203</td>\n",
       "      <td>13.556819</td>\n",
       "      <td>1.900338</td>\n",
       "      <td>1.833973</td>\n",
       "      <td>0.494054</td>\n",
       "      <td>0.420957</td>\n",
       "      <td>0.959458</td>\n",
       "      <td>0.836946</td>\n",
       "      <td>1.20085</td>\n",
       "      <td>50.549151</td>\n",
       "      <td>0.0</td>\n",
       "      <td>0.0</td>\n",
       "      <td>0.0</td>\n",
       "      <td>0.0</td>\n",
       "    </tr>\n",
       "    <tr>\n",
       "      <th>min</th>\n",
       "      <td>4662.00000</td>\n",
       "      <td>13.058200</td>\n",
       "      <td>10.172800</td>\n",
       "      <td>1.000000</td>\n",
       "      <td>1.000000</td>\n",
       "      <td>0.000000</td>\n",
       "      <td>0.000000</td>\n",
       "      <td>0.000000</td>\n",
       "      <td>0.000000</td>\n",
       "      <td>1.00000</td>\n",
       "      <td>50.000000</td>\n",
       "      <td>1.0</td>\n",
       "      <td>1.0</td>\n",
       "      <td>1.0</td>\n",
       "      <td>1.0</td>\n",
       "    </tr>\n",
       "    <tr>\n",
       "      <th>25%</th>\n",
       "      <td>5087.00000</td>\n",
       "      <td>27.033300</td>\n",
       "      <td>19.216600</td>\n",
       "      <td>2.000000</td>\n",
       "      <td>2.000000</td>\n",
       "      <td>1.000000</td>\n",
       "      <td>1.000000</td>\n",
       "      <td>0.000000</td>\n",
       "      <td>0.000000</td>\n",
       "      <td>2.00000</td>\n",
       "      <td>95.000000</td>\n",
       "      <td>1.0</td>\n",
       "      <td>1.0</td>\n",
       "      <td>1.0</td>\n",
       "      <td>1.0</td>\n",
       "    </tr>\n",
       "    <tr>\n",
       "      <th>50%</th>\n",
       "      <td>5512.00000</td>\n",
       "      <td>31.770400</td>\n",
       "      <td>39.020000</td>\n",
       "      <td>3.000000</td>\n",
       "      <td>3.000000</td>\n",
       "      <td>1.000000</td>\n",
       "      <td>1.000000</td>\n",
       "      <td>1.000000</td>\n",
       "      <td>1.000000</td>\n",
       "      <td>3.00000</td>\n",
       "      <td>120.000000</td>\n",
       "      <td>1.0</td>\n",
       "      <td>1.0</td>\n",
       "      <td>1.0</td>\n",
       "      <td>1.0</td>\n",
       "    </tr>\n",
       "    <tr>\n",
       "      <th>75%</th>\n",
       "      <td>5937.00000</td>\n",
       "      <td>33.583300</td>\n",
       "      <td>44.392300</td>\n",
       "      <td>5.000000</td>\n",
       "      <td>4.000000</td>\n",
       "      <td>1.000000</td>\n",
       "      <td>1.000000</td>\n",
       "      <td>2.000000</td>\n",
       "      <td>1.000000</td>\n",
       "      <td>4.00000</td>\n",
       "      <td>177.000000</td>\n",
       "      <td>1.0</td>\n",
       "      <td>1.0</td>\n",
       "      <td>1.0</td>\n",
       "      <td>1.0</td>\n",
       "    </tr>\n",
       "    <tr>\n",
       "      <th>max</th>\n",
       "      <td>6362.00000</td>\n",
       "      <td>37.144500</td>\n",
       "      <td>52.163800</td>\n",
       "      <td>9.000000</td>\n",
       "      <td>8.000000</td>\n",
       "      <td>3.000000</td>\n",
       "      <td>2.000000</td>\n",
       "      <td>4.000000</td>\n",
       "      <td>4.000000</td>\n",
       "      <td>8.00000</td>\n",
       "      <td>230.000000</td>\n",
       "      <td>1.0</td>\n",
       "      <td>1.0</td>\n",
       "      <td>1.0</td>\n",
       "      <td>1.0</td>\n",
       "    </tr>\n",
       "  </tbody>\n",
       "</table>\n",
       "</div>"
      ],
      "text/plain": [
       "            Index     Latitude    Longitude         Male       Female  \\\n",
       "count  1701.00000  1701.000000  1701.000000  1701.000000  1701.000000   \n",
       "mean   5512.00000    28.587914    33.307325     3.827160     3.171664   \n",
       "std     491.18072     7.969203    13.556819     1.900338     1.833973   \n",
       "min    4662.00000    13.058200    10.172800     1.000000     1.000000   \n",
       "25%    5087.00000    27.033300    19.216600     2.000000     2.000000   \n",
       "50%    5512.00000    31.770400    39.020000     3.000000     3.000000   \n",
       "75%    5937.00000    33.583300    44.392300     5.000000     4.000000   \n",
       "max    6362.00000    37.144500    52.163800     9.000000     8.000000   \n",
       "\n",
       "       Under 5 Male  Under 5 Female    6-18 Male  6-18 Female     Over 18  \\\n",
       "count   1701.000000     1701.000000  1701.000000  1701.000000  1701.00000   \n",
       "mean       0.994709        0.834215     1.068783     0.750147     3.35097   \n",
       "std        0.494054        0.420957     0.959458     0.836946     1.20085   \n",
       "min        0.000000        0.000000     0.000000     0.000000     1.00000   \n",
       "25%        1.000000        1.000000     0.000000     0.000000     2.00000   \n",
       "50%        1.000000        1.000000     1.000000     1.000000     3.00000   \n",
       "75%        1.000000        1.000000     2.000000     1.000000     4.00000   \n",
       "max        3.000000        2.000000     4.000000     4.000000     8.00000   \n",
       "\n",
       "            Income  Need/food  Need/Clothes  Need/Education  Need/Money  \n",
       "count  1075.000000     1191.0         704.0           517.0      1320.0  \n",
       "mean    133.338605        1.0           1.0             1.0         1.0  \n",
       "std      50.549151        0.0           0.0             0.0         0.0  \n",
       "min      50.000000        1.0           1.0             1.0         1.0  \n",
       "25%      95.000000        1.0           1.0             1.0         1.0  \n",
       "50%     120.000000        1.0           1.0             1.0         1.0  \n",
       "75%     177.000000        1.0           1.0             1.0         1.0  \n",
       "max     230.000000        1.0           1.0             1.0         1.0  "
      ]
     },
     "execution_count": 7,
     "metadata": {},
     "output_type": "execute_result"
    }
   ],
   "source": [
    "# Get stats for the numerical column\n",
    "raw_df.describe()"
   ]
  },
  {
   "cell_type": "code",
   "execution_count": 8,
   "metadata": {},
   "outputs": [
    {
     "data": {
      "text/plain": [
       "<AxesSubplot:>"
      ]
     },
     "execution_count": 8,
     "metadata": {},
     "output_type": "execute_result"
    },
    {
     "data": {
      "image/png": "[encoded data removed]",
      "text/plain": [
       "<Figure size 432x288 with 2 Axes>"
      ]
     },
     "metadata": {
      "needs_background": "light"
     },
     "output_type": "display_data"
    }
   ],
   "source": [
    "sns.heatmap(raw_df.isnull())"
   ]
  },
  {
   "cell_type": "code",
   "execution_count": 11,
   "metadata": {},
   "outputs": [
    {
     "data": {
      "text/plain": [
       "<AxesSubplot:xlabel='Country', ylabel='count'>"
      ]
     },
     "execution_count": 11,
     "metadata": {},
     "output_type": "execute_result"
    },
    {
     "data": {
      "image/png": "[encoded data removed]",
      "text/plain": [
       "<Figure size 432x288 with 1 Axes>"
      ]
     },
     "metadata": {
      "needs_background": "light"
     },
     "output_type": "display_data"
    }
   ],
   "source": [
    "sns.countplot(x='Country',data=raw_df)"
   ]
  },
  {
   "cell_type": "code",
   "execution_count": 13,
   "metadata": {},
   "outputs": [
    {
     "data": {
      "text/plain": [
       "<AxesSubplot:xlabel='Country', ylabel='count'>"
      ]
     },
     "execution_count": 13,
     "metadata": {},
     "output_type": "execute_result"
    },
    {
     "data": {
      "image/png": "[encoded data removed]",
      "text/plain": [
       "<Figure size 432x288 with 1 Axes>"
      ]
     },
     "metadata": {
      "needs_background": "light"
     },
     "output_type": "display_data"
    }
   ],
   "source": [
    " sns.countplot( x='Country',hue=\"Breadwinner Work\",data=raw_df)"
   ]
  },
  {
   "cell_type": "code",
   "execution_count": null,
   "metadata": {},
   "outputs": [],
   "source": []
  }
 ],
 "metadata": {
  "colab": {
   "provenance": [],
   "toc_visible": true
  },
  "kernelspec": {
   "display_name": "Python 3 (ipykernel)",
   "language": "python",
   "name": "python3"
  },
  "language_info": {
   "codemirror_mode": {
    "name": "ipython",
    "version": 3
   },
   "file_extension": ".py",
   "mimetype": "text/x-python",
   "name": "python",
   "nbconvert_exporter": "python",
   "pygments_lexer": "ipython3",
   "version": "3.9.12"
  }
 },
 "nbformat": 4,
 "nbformat_minor": 1
}
